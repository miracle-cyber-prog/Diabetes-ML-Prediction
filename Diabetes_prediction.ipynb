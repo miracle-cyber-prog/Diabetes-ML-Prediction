## for numerical operations, arrays, matrices and linear algebra
import numpy as np
## for data loading, cleaning, manipulation, and analysis
import pandas as pd
## for plotting graphs(line, bar, scatter, histogram, etc)
import matplotlib.pyplot as plt
## based on matplotlib; used for statistical graphics and better visuals
import seaborn as sns
## for data scaling, normalization, label encoding(preprocessing)
from sklearn.preprocessing import StandardScaler, LabelEncoder
## splitting data into training and testing sets
from sklearn.model_selection import train_test_split
## to fill in missing values using mean, median, mode
from sklearn.impute import SimpleImputer
## regression modeling(linear regression)
from sklearn.linear_model import LinearRegression
## binary calssification(logistic regression)
from sklearn.linear_model import LogisticRegression
## tree based calssification
from sklearn.tree import DecisionTreeClassifier
## ensemble learning
from sklearn.ensemble import RandomForestClassifier
## classification using hyperplanes
from sklearn.svm import SVC
## for classification model evaluation
from sklearn.metrics import accuracy_score, precision_score, recall_score, f1_score, classification_report, confusion_matrix, ConfusionMatrixDisplay, roc_curve, auc
from imblearn.over_sampling import RandomOverSampler
from sklearn.naive_bayes import GaussianNB
from sklearn.svm import SVC
import tensorflow as tf
df = pd.read_csv('diabetes.csv')
df.head()
df.describe()
df['Outcome'].unique()
df['Outcome'] = (df['Outcome'] == 1).astype(object)
df.head()
df['Outcome'] = (df['Outcome'] == 1).astype(int)
df.head()
for label in df.columns[:-1]:
  plt.hist(df[df['Outcome'] == 1][label], color='blue', label='Diabetic', alpha=0.7, density=True)
  plt.hist(df[df['Outcome'] == 0][label], color='yellow', label='non diabetic', alpha=0.7, density=True)
  plt.title(label)
  plt.ylabel('probability')
  plt.xlabel(label)
  plt.legend()
  plt.show()
train_df, test_df = train_test_split(df, test_size=0.2, stratify=df["Outcome"], random_state=42)
train_df, valid_df = train_test_split(train_df, test_size=0.25, stratify=train_df["Outcome"], random_state=42)
def scale_dataset(dataframe, oversample=False):
  x = dataframe[dataframe.columns[:-1]].values
  y = dataframe[dataframe.columns[-1]].values

  scaler = StandardScaler()
  x = scaler.fit_transform(x)

  if oversample:
    ros = RandomOverSampler()
    x, y = ros.fit_resample(x, y)
    
  data = np.hstack((x, np.reshape(y, (-1, 1))))
    
  return data, x, y
train_df, x_train_df, y_train_df = scale_dataset(df, oversample=True)
valid_df, x_valid_df, y_valid_df = scale_dataset(df, oversample=False)
test_df, x_test_df, y_test_df = scale_dataset(df, oversample=False)
len(y_train_df)
sum(y_train_df == 1) 
sum(y_train_df == 0)
## knn
from sklearn.neighbors import KNeighborsClassifier
knn_model = KNeighborsClassifier(n_neighbors=1)
knn_model.fit(x_train_df, y_train_df)
y_pred = knn_model.predict(x_test_df)
print(classification_report(y_test_df, y_pred))
y_pred
y_pred = knn_model.predict(x_test_df)
cm = confusion_matrix(y_test_df, y_pred)
disp = ConfusionMatrixDisplay(confusion_matrix = cm)
disp.plot(cmap=plt.cm.plasma)
plt.title("Confusion Matrix")
plt.show()
y_prob = knn_model.predict_proba(x_test_df)[:, 1]
fpr, tpr, thresholds = roc_curve(y_test_df,y_prob)
roc_auc = auc(fpr, tpr)

plt.figure()
plt.plot(fpr, fpr, color = 'blue',
label=f"ROC curve (AUC = {roc_auc:.2f})")
plt.plot([0, 1], [0, 1], color='gray', linestyle='--')
plt.xlabel("False positive Rate")
plt.ylabel("True Positive Rate")
plt.title("roc curve")
plt.legend()
plt.show()
## naive Bayes
nb_model = GaussianNB()
nb_model.fit(x_train_df, y_train_df)
y_pred = nb_model.predict(x_test_df)
print(classification_report(y_test_df, y_pred))
## log regression
lg_model = LogisticRegression()
lg_model.fit(x_train_df, y_train_df)
y_pred = lg_model.predict(x_test_df)
print(classification_report(y_test_df, y_pred))
 ## SVM
sv_model = SVC()
sv_model.fit(x_train_df, y_train_df)
y_pred = sv_model.predict(x_test_df)
print(classification_report(y_test_df, y_pred))
import tensorflow as tf
def plot_history(history):
  fig, (ax1, ax2) = plt.subplots(1, 2, figsize=(10, 4)) 
  ax1.plot(history.history['loss'], label='loss')
  ax1.plot(history.history['val_loss'], label='val_loss')
  ax1.set_xlabel("Epoch")
  ax1.set_ylabel('Binary crossentropy')
  ax1.grid(True)

  ax2.plot(history.history['accuracy'], label='accuracy')
  ax2.plot(history.history['val_accuracy'], label='val_accuracy')
  ax2.set_xlabel("Epoch")
  ax2.set_ylabel("accuracy")  
  ax2.grid(True)
    
  plt.show()
plot_history(history)
def train_model(x_train_df, y_train_df, num_nodes, dropout_prob, lr, batch_size, epochs):
  nn_model = tf.keras.Sequential([
      tf.keras.layers.Dense(num_nodes, activation='relu', input_shape=(8,)),
      tf.keras.layers.Dropout(dropout_prob),
      tf.keras.layers.Dense(num_nodes, activation='relu'),
      tf.keras.layers.Dropout(dropout_prob),
      tf.keras.layers.Dense(1, activation='sigmoid')
  ])
    
  nn_model.compile(optimizer=tf.keras.optimizers.Adam(lr), loss='binary_crossentropy',
                   metrics=['accuracy'])
  history = nn_model.fit(x_train_df, y_train_df, epochs=epochs, batch_size=batch_size, validation_split=0.2, verbose=0)  
    
  return nn_model, history
y = df['Outcome'].values
print("x_tari_shape:", x_train_df.shape)
print("y_tari_shape:", y_train_df.shape)
for col in df.columns:
    if df[col].apply(lambda x:
isinstance(x, list)).any():
        print(f"Column {col} contains lists")
x_train_df = np.array(x_train_df, dtype=float)
x_test_df = np.array(x_test_df, dtype=float)
print(x_train_df.shape, x_train_df.dtype)
y_train_df = np.array(y_train_df, dtype=float).ravel()
y_test_df = np.array(y_test_df, dtype=float).ravel()
least_val_loss = float('inf')
least_loss_model = None
epochs=100
for num_nodes in [32]:
  for dropout_prob in [0.1]:
    for lr in [0.01]:
      for batch_size in [32]:
        print(f"{num_nodes} nodes, dropout {dropout_prob}, lr {lr}, batch size {batch_size}") 
        model, history = train_model(x_train_df, y_train_df, num_nodes, dropout_prob, lr, batch_size, epochs)
        plot_history(history)
        val_loss = model.evaluate(x_valid_df, y_valid_df)
        if isinstance(val_loss, list):
            val_loss = val_loss[0]

        if least_loss_model is None or val_loss < least_val_loss:
            least_val_loss = val_loss
            least_loss_model = model
y_pred = least_loss_model.predict(x_test_df)
y_pred = (y_pred > 0.5)
y_pred
print(classification_report(y_test_df, y_pred))
model.save("diabetes_model.keras")
converter = tf.lite.TFLiteConverter.from_keras_model(model)
tflite_model = converter.convert()

with open("diabetes_model.tflite", "wb") as f:
    f.write(tflite_model)
print("hello")
print("haello")
 if val_loss < least_val_loss:
            least_val_loss = val_loss
            model.save("best_model.h5")

